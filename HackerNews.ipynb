{
 "cells": [
  {
   "cell_type": "markdown",
   "metadata": {},
   "source": [
    "# PROJECT ON HACKER NEWS"
   ]
  },
  {
   "cell_type": "markdown",
   "metadata": {},
   "source": [
    "`Hacker News` is a site started by the startup incubator Y Combinator, where user-submitted stories (known as \"posts\") are voted and commented upon, similar to reddit. Hacker News is extremely popular in technology and startup circles, and posts that make it to the top of Hacker News' listings can get hundreds of thousands of visitors as a result.\n",
    "\n",
    "We're specifically interested in posts whose titles begin with either `Ask HN` or `Show HN`. Users submit Ask HN posts to ask the Hacker News community a specific question.\n",
    "We'll compare these two types of posts to determine the following:\n",
    "\n",
    "Do `Ask HN` or `Show HN` receive more comments on average?\n",
    "Do posts created at a certain time receive more comments on average?\n"
   ]
  },
  {
   "cell_type": "code",
   "execution_count": 1,
   "metadata": {
    "collapsed": false
   },
   "outputs": [
    {
     "name": "stdout",
     "output_type": "stream",
     "text": [
      "[['id', 'title', 'url', 'num_points', 'num_comments', 'author', 'created_at'], ['12224879', 'Interactive Dynamic Video', 'http://www.interactivedynamicvideo.com/', '386', '52', 'ne0phyte', '8/4/2016 11:52'], ['10975351', 'How to Use Open Source and Shut the Fuck Up at the Same Time', 'http://hueniverse.com/2016/01/26/how-to-use-open-source-and-shut-the-fuck-up-at-the-same-time/', '39', '10', 'josep2', '1/26/2016 19:30'], ['11964716', \"Florida DJs May Face Felony for April Fools' Water Joke\", 'http://www.thewire.com/entertainment/2013/04/florida-djs-april-fools-water-joke/63798/', '2', '1', 'vezycash', '6/23/2016 22:20'], ['11919867', 'Technology ventures: From Idea to Enterprise', 'https://www.amazon.com/Technology-Ventures-Enterprise-Thomas-Byers/dp/0073523429', '3', '1', 'hswarna', '6/17/2016 0:01']]\n"
     ]
    }
   ],
   "source": [
    "from csv import reader\n",
    "opened_file = open('hacker_news.csv')\n",
    "read_file = reader(opened_file)\n",
    "hn = list(read_file)\n",
    "\n",
    "print(hn[:5])\n"
   ]
  },
  {
   "cell_type": "code",
   "execution_count": 2,
   "metadata": {
    "collapsed": false
   },
   "outputs": [
    {
     "name": "stdout",
     "output_type": "stream",
     "text": [
      "['id', 'title', 'url', 'num_points', 'num_comments', 'author', 'created_at']\n",
      "\n",
      "\n",
      "[['12224879', 'Interactive Dynamic Video', 'http://www.interactivedynamicvideo.com/', '386', '52', 'ne0phyte', '8/4/2016 11:52'], ['10975351', 'How to Use Open Source and Shut the Fuck Up at the Same Time', 'http://hueniverse.com/2016/01/26/how-to-use-open-source-and-shut-the-fuck-up-at-the-same-time/', '39', '10', 'josep2', '1/26/2016 19:30'], ['11964716', \"Florida DJs May Face Felony for April Fools' Water Joke\", 'http://www.thewire.com/entertainment/2013/04/florida-djs-april-fools-water-joke/63798/', '2', '1', 'vezycash', '6/23/2016 22:20'], ['11919867', 'Technology ventures: From Idea to Enterprise', 'https://www.amazon.com/Technology-Ventures-Enterprise-Thomas-Byers/dp/0073523429', '3', '1', 'hswarna', '6/17/2016 0:01'], ['10301696', 'Note by Note: The Making of Steinway L1037 (2007)', 'http://www.nytimes.com/2007/11/07/movies/07stein.html?_r=0', '8', '2', 'walterbell', '9/30/2015 4:12']]\n"
     ]
    }
   ],
   "source": [
    "header = hn[0]\n",
    "hn = hn[1:]\n",
    "\n",
    "print(header)\n",
    "print('\\n')\n",
    "print(hn[:5])"
   ]
  },
  {
   "cell_type": "markdown",
   "metadata": {},
   "source": [
    "### Extracting `Ask HN` and `Show HN`\n"
   ]
  },
  {
   "cell_type": "code",
   "execution_count": 3,
   "metadata": {
    "collapsed": false
   },
   "outputs": [
    {
     "name": "stdout",
     "output_type": "stream",
     "text": [
      "1744\n",
      "\n",
      "\n",
      "1162\n",
      "\n",
      "\n",
      "17194\n"
     ]
    }
   ],
   "source": [
    "ask_posts = []\n",
    "show_posts = []\n",
    "other_posts = []\n",
    "\n",
    "for row in hn:\n",
    "    title = row[1]\n",
    "    if title.lower().startswith('ask hn'):\n",
    "        ask_posts.append(row)\n",
    "    elif title.lower().startswith('show hn'):\n",
    "        show_posts.append(row)\n",
    "    else:\n",
    "        other_posts.append(row)\n",
    "        \n",
    "print(len(ask_posts))\n",
    "print('\\n')\n",
    "print(len(show_posts))\n",
    "print('\\n')\n",
    "print(len(other_posts))\n",
    "\n"
   ]
  },
  {
   "cell_type": "code",
   "execution_count": 4,
   "metadata": {
    "collapsed": false
   },
   "outputs": [
    {
     "name": "stdout",
     "output_type": "stream",
     "text": [
      "[['12296411', 'Ask HN: How to improve my personal website?', '', '2', '6', 'ahmedbaracat', '8/16/2016 9:55'], ['10610020', 'Ask HN: Am I the only one outraged by Twitter shutting down share counts?', '', '28', '29', 'tkfx', '11/22/2015 13:43'], ['11610310', 'Ask HN: Aby recent changes to CSS that broke mobile?', '', '1', '1', 'polskibus', '5/2/2016 10:14']]\n",
      "\n",
      "\n",
      "[['10627194', 'Show HN: Wio Link  ESP8266 Based Web of Things Hardware Development Platform', 'https://iot.seeed.cc', '26', '22', 'kfihihc', '11/25/2015 14:03'], ['10646440', 'Show HN: Something pointless I made', 'http://dn.ht/picklecat/', '747', '102', 'dhotson', '11/29/2015 22:46'], ['11590768', 'Show HN: Shanhu.io, a programming playground powered by e8vm', 'https://shanhu.io', '1', '1', 'h8liu', '4/28/2016 18:05']]\n",
      "\n",
      "\n",
      "[['12224879', 'Interactive Dynamic Video', 'http://www.interactivedynamicvideo.com/', '386', '52', 'ne0phyte', '8/4/2016 11:52'], ['10975351', 'How to Use Open Source and Shut the Fuck Up at the Same Time', 'http://hueniverse.com/2016/01/26/how-to-use-open-source-and-shut-the-fuck-up-at-the-same-time/', '39', '10', 'josep2', '1/26/2016 19:30'], ['11964716', \"Florida DJs May Face Felony for April Fools' Water Joke\", 'http://www.thewire.com/entertainment/2013/04/florida-djs-april-fools-water-joke/63798/', '2', '1', 'vezycash', '6/23/2016 22:20']]\n"
     ]
    }
   ],
   "source": [
    "print(ask_posts[:3])\n",
    "print('\\n')\n",
    "print(show_posts[:3])\n",
    "print('\\n')\n",
    "print(other_posts[:3])"
   ]
  },
  {
   "cell_type": "markdown",
   "metadata": {},
   "source": [
    "### Calculating the Average Number of Comments for `Ask HN` and `Show HN` Posts"
   ]
  },
  {
   "cell_type": "code",
   "execution_count": 5,
   "metadata": {
    "collapsed": false
   },
   "outputs": [
    {
     "name": "stdout",
     "output_type": "stream",
     "text": [
      "14.038417431192661\n",
      "\n",
      "\n",
      "10.31669535283993\n"
     ]
    }
   ],
   "source": [
    "total_ask_comments = 0\n",
    "for value in ask_posts:\n",
    "    num_comment = value[4]\n",
    "    num_comment = int(num_comment)\n",
    "    total_ask_comments  += num_comment  \n",
    "\n",
    "avg_ask_comments = total_ask_comments / len(ask_posts)\n",
    "print(avg_ask_comments)\n",
    "\n",
    "print('\\n')\n",
    "\n",
    "total_show_comments = 0\n",
    "for value in show_posts:\n",
    "    num_comment = value[4]\n",
    "    num_comment = int(num_comment)\n",
    "    total_show_comments += num_comment   \n",
    "\n",
    "avg_show_comments = total_show_comments / len(show_posts)\n",
    "print(avg_show_comments)"
   ]
  },
  {
   "cell_type": "markdown",
   "metadata": {},
   "source": [
    "### Finding the Amount of Ask Posts and Comment by Hour Created\n"
   ]
  },
  {
   "cell_type": "markdown",
   "metadata": {},
   "source": [
    "* Calculate the amount of ask posts created in each hour of the day, along with the number of comments received.\n",
    "* Calculate the average number of comments ask posts receive by hour created."
   ]
  },
  {
   "cell_type": "code",
   "execution_count": 6,
   "metadata": {
    "collapsed": false
   },
   "outputs": [
    {
     "name": "stdout",
     "output_type": "stream",
     "text": [
      "[['8/16/2016 9:55', '6'], ['11/22/2015 13:43', '29'], ['5/2/2016 10:14', '1'], ['8/2/2016 14:20', '3'], ['10/15/2015 16:38', '17'], ['9/26/2015 23:23', '1']]\n",
      "\n",
      "\n",
      "{'17': 100, '04': 47, '09': 45, '23': 68, '01': 60, '20': 80, '12': 73, '15': 116, '08': 48, '05': 46, '22': 71, '00': 55, '03': 54, '07': 34, '13': 85, '02': 58, '16': 108, '21': 109, '10': 59, '14': 107, '19': 110, '06': 44, '18': 109, '11': 58}\n",
      "\n",
      "\n",
      "{'17': 1146, '04': 337, '09': 251, '23': 543, '01': 683, '20': 1722, '12': 687, '15': 4477, '08': 492, '05': 464, '22': 479, '00': 447, '03': 421, '07': 267, '13': 1253, '02': 1381, '16': 1814, '21': 1745, '10': 793, '14': 1416, '19': 1188, '06': 397, '18': 1439, '11': 641}\n"
     ]
    }
   ],
   "source": [
    "import datetime as dt\n",
    "result_list = []\n",
    "\n",
    "for value in ask_posts:\n",
    "    temp = []\n",
    "    temp.append(value[6])\n",
    "    temp.append(value[4])\n",
    "    result_list.append(temp)\n",
    "print(result_list[:6])\n",
    "\n",
    "    \n",
    "counts_by_hour = {}\n",
    "comments_by_hour = {}\n",
    "date_format= \"%m/%d/%Y %H:%M\"\n",
    "\n",
    "for row in result_list:\n",
    "    date_hour=row[0]\n",
    "    comment= int(row[1])\n",
    "    time=dt.datetime.strptime(date_hour, date_format).strftime(\"%H\")\n",
    "    \n",
    "    if time in counts_by_hour:\n",
    "        counts_by_hour[time] += 1\n",
    "        comments_by_hour[time] += comment\n",
    "    else:\n",
    "        counts_by_hour[time]=1\n",
    "        comments_by_hour[time]= comment\n",
    "        \n",
    "print('\\n')\n",
    "print(counts_by_hour)\n",
    "print('\\n')\n",
    "print(comments_by_hour)\n",
    "    "
   ]
  },
  {
   "cell_type": "markdown",
   "metadata": {
    "collapsed": true
   },
   "source": [
    "### Calculating the Average Number of Comments for `Ask HN` Posts by Hour"
   ]
  },
  {
   "cell_type": "markdown",
   "metadata": {},
   "source": [
    "Above, we created two dictionaries:\n",
    "\n",
    "* counts_by_hour: contains the number of ask posts created during each hour of the day.\n",
    "* comments_by_hour: contains the corresponding number of comments ask posts created at each hour received.\n",
    "\n",
    "Next, we'll use these two dictionaries to calculate the average number of comments for posts created during each hour of the day."
   ]
  },
  {
   "cell_type": "code",
   "execution_count": 7,
   "metadata": {
    "collapsed": false
   },
   "outputs": [
    {
     "name": "stdout",
     "output_type": "stream",
     "text": [
      "[['17', 11.46], ['04', 7.170212765957447], ['09', 5.5777777777777775], ['23', 7.985294117647059], ['01', 11.383333333333333], ['20', 21.525], ['12', 9.41095890410959], ['15', 38.5948275862069], ['08', 10.25], ['05', 10.08695652173913], ['22', 6.746478873239437], ['00', 8.127272727272727], ['03', 7.796296296296297], ['07', 7.852941176470588], ['13', 14.741176470588234], ['02', 23.810344827586206], ['16', 16.796296296296298], ['21', 16.009174311926607], ['10', 13.440677966101696], ['14', 13.233644859813085], ['19', 10.8], ['06', 9.022727272727273], ['18', 13.20183486238532], ['11', 11.051724137931034]]\n"
     ]
    }
   ],
   "source": [
    "avg_by_hour = []\n",
    "for value in comments_by_hour:\n",
    "    avg_by_hour.append([value, comments_by_hour[value]/ counts_by_hour[value]])\n",
    "\n",
    "print(avg_by_hour)"
   ]
  },
  {
   "cell_type": "code",
   "execution_count": 8,
   "metadata": {
    "collapsed": false
   },
   "outputs": [
    {
     "name": "stdout",
     "output_type": "stream",
     "text": [
      "[['17', 11.46], ['04', 7.170212765957447], ['09', 5.5777777777777775], ['23', 7.985294117647059], ['01', 11.383333333333333], ['20', 21.525], ['12', 9.41095890410959], ['15', 38.5948275862069], ['08', 10.25], ['05', 10.08695652173913], ['22', 6.746478873239437], ['00', 8.127272727272727], ['03', 7.796296296296297], ['07', 7.852941176470588], ['13', 14.741176470588234], ['02', 23.810344827586206], ['16', 16.796296296296298], ['21', 16.009174311926607], ['10', 13.440677966101696], ['14', 13.233644859813085], ['19', 10.8], ['06', 9.022727272727273], ['18', 13.20183486238532], ['11', 11.051724137931034]]\n",
      "\n",
      "\n",
      "[['15', 38.5948275862069], ['02', 23.810344827586206], ['20', 21.525], ['16', 16.796296296296298], ['21', 16.009174311926607], ['13', 14.741176470588234], ['10', 13.440677966101696], ['14', 13.233644859813085], ['18', 13.20183486238532], ['17', 11.46], ['01', 11.383333333333333], ['11', 11.051724137931034], ['19', 10.8], ['08', 10.25], ['05', 10.08695652173913], ['12', 9.41095890410959], ['06', 9.022727272727273], ['00', 8.127272727272727], ['23', 7.985294117647059], ['07', 7.852941176470588], ['03', 7.796296296296297], ['04', 7.170212765957447], ['22', 6.746478873239437], ['09', 5.5777777777777775]]\n"
     ]
    }
   ],
   "source": [
    "swap_avg_by_hour = []\n",
    "for value in avg_by_hour:\n",
    "    swap_avg_by_hour.append(value)\n",
    "    \n",
    "print(swap_avg_by_hour)\n",
    "print('\\n')\n",
    "'''\n",
    "SORTING \n",
    " To successfully sort the second colum (index 1) you nned to specify \n",
    " the key attribute in your sorted method.\n",
    " The below solutions worked perfectly\n",
    " (solution was gotten from python documentation on how to use SORTED())\n",
    "\n",
    "* sorted_swap = sorted(swap_avg_by_hour,key=lambda average: average[1],reverse = True)\n",
    "*  from operator import itemgetter\n",
    "# sorted_swap = sorted(swap_avg_by_hour,key=itemgetter(1), reverse = True)\n",
    " \n",
    "'''\n",
    "\n",
    "from operator import itemgetter\n",
    "sorted_swap = sorted(swap_avg_by_hour,key=itemgetter(1), reverse = True)\n",
    "\n",
    "print(sorted_swap)"
   ]
  },
  {
   "cell_type": "markdown",
   "metadata": {},
   "source": [
    "'''\n",
    "CONVERTING AND FORMARTING AVERAGE AND DATETIME\n",
    "'''\n",
    "print(\"Top 5 Hours for Ask Posts Comments\")\n",
    "\n",
    "date_format = \"%H\"\n",
    "for element in sorted_swap[:5]:\n",
    "    hour = dt.datetime.strptime(element[0], date_format).strftime(\"%H\")\n",
    "    print(\"{time}:00 : {value:.2f} average comments per post\".format(time=hour, value=element[1]) ) \n",
    "  \n",
    "    "
   ]
  },
  {
   "cell_type": "code",
   "execution_count": 9,
   "metadata": {
    "collapsed": false
   },
   "outputs": [
    {
     "name": "stdout",
     "output_type": "stream",
     "text": [
      "Top 5 Hours for Ask Posts Comments (WAT)\n",
      "10:00 : 38.59 average comments per post\n",
      "21:00 : 23.81 average comments per post\n",
      "15:00 : 21.52 average comments per post\n",
      "11:00 : 16.80 average comments per post\n",
      "16:00 : 16.01 average comments per post\n"
     ]
    }
   ],
   "source": [
    "'''\n",
    "CONVERTING TIME TO WEST AFRICA TIME ZONE(NIGERIA)\n",
    "    The original time zone was Eastern Standard.\n",
    "    Here I am converting to GMT+1 by adding 7 hours.\n",
    "'''\n",
    "print(\"Top 5 Hours for Ask Posts Comments (WAT)\")\n",
    "\n",
    "date_format = \"%H\"\n",
    "for element in sorted_swap[:5]:\n",
    "    hour = dt.datetime.strptime(element[0], date_format)\n",
    "    hour_in_WAT = hour - dt.timedelta(hours=5)\n",
    "    hour_in_WAT = hour_in_WAT.strftime(\"%H\")\n",
    "    print(\"{time}:00 : {value:.2f} average comments per post\".format(time=hour_in_WAT, value=element[1]) ) \n",
    "  \n"
   ]
  },
  {
   "cell_type": "markdown",
   "metadata": {},
   "source": [
    "#### COMMENT\n",
    "I noticed that for active engagement to questions posted using the `Ask HN` clause, queationa ahould be posted between the below time in GMT+1:\n",
    "\n",
    "* 10:00-11:00 (10AM-11AM)\n",
    "* 15:00-16:00 (3PM-4pm)\n",
    "* 21:00 (9PM)\n"
   ]
  },
  {
   "cell_type": "code",
   "execution_count": null,
   "metadata": {
    "collapsed": true
   },
   "outputs": [],
   "source": []
  }
 ],
 "metadata": {
  "kernelspec": {
   "display_name": "Python 3",
   "language": "python",
   "name": "python3"
  },
  "language_info": {
   "codemirror_mode": {
    "name": "ipython",
    "version": 3
   },
   "file_extension": ".py",
   "mimetype": "text/x-python",
   "name": "python",
   "nbconvert_exporter": "python",
   "pygments_lexer": "ipython3",
   "version": "3.4.3"
  }
 },
 "nbformat": 4,
 "nbformat_minor": 2
}
